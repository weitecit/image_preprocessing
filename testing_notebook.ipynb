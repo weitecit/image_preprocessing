{
 "cells": [
  {
   "cell_type": "code",
   "execution_count": null,
   "id": "f9e3315f",
   "metadata": {},
   "outputs": [
    {
     "name": "stdout",
     "output_type": "stream",
     "text": [
      "Obtaining dataset metadata...\n",
      "Detected fields: ['santomera' 'cabrera' 'flores']\n",
      "Images out of bounds: 0\n",
      "Images deleted: 0\n",
      "Processing: C:\\Users\\Daniel_Arcos\\Desktop\\images\\0007\n",
      "Images: 308\n",
      "Processing: C:\\Users\\Daniel_Arcos\\Desktop\\images\\0008\n",
      "Images: 496\n",
      "Processing: C:\\Users\\Daniel_Arcos\\Desktop\\images\\DJI_202505191734_025_Flores-La-Matanza\n",
      "Images: 26\n",
      "Processing: C:\\Users\\Daniel_Arcos\\Desktop\\images\\DJI_202505191818_028_José-Miguel-Santomera\n",
      "Images: 60\n",
      "DONE\n"
     ]
    }
   ],
   "source": [
    "import main\n",
    "folder_path = r\"C:\\Users\\Daniel_Arcos\\Desktop\\images\"\n",
    "out_path = r\"C:\\Users\\Daniel_Arcos\\Downloads\\Mix_out\"\n",
    "main.fields_and_cluster_division(folder_path, out_path, max_images=200)"
   ]
  },
  {
   "cell_type": "code",
   "execution_count": 2,
   "id": "f8461abc",
   "metadata": {},
   "outputs": [],
   "source": [
    "gdf  = main.get_dataset_gdf(folder_path)"
   ]
  },
  {
   "cell_type": "code",
   "execution_count": 27,
   "id": "e5e1be2b",
   "metadata": {},
   "outputs": [
    {
     "data": {
      "text/plain": [
       "array(['C:\\\\Users\\\\Daniel_Arcos\\\\Desktop\\\\images\\\\0007',\n",
       "       'C:\\\\Users\\\\Daniel_Arcos\\\\Desktop\\\\images\\\\0008',\n",
       "       'C:\\\\Users\\\\Daniel_Arcos\\\\Desktop\\\\images\\\\DJI_202505191734_025_Flores-La-Matanza',\n",
       "       'C:\\\\Users\\\\Daniel_Arcos\\\\Desktop\\\\images\\\\DJI_202505191818_028_José-Miguel-Santomera'],\n",
       "      dtype=object)"
      ]
     },
     "execution_count": 27,
     "metadata": {},
     "output_type": "execute_result"
    }
   ],
   "source": [
    "import os\n",
    "gdf['path'].apply(lambda x: os.path.dirname(x)).unique()"
   ]
  }
 ],
 "metadata": {
  "kernelspec": {
   "display_name": "venv",
   "language": "python",
   "name": "python3"
  },
  "language_info": {
   "codemirror_mode": {
    "name": "ipython",
    "version": 3
   },
   "file_extension": ".py",
   "mimetype": "text/x-python",
   "name": "python",
   "nbconvert_exporter": "python",
   "pygments_lexer": "ipython3",
   "version": "3.12.10"
  }
 },
 "nbformat": 4,
 "nbformat_minor": 5
}
