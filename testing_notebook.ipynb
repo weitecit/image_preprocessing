{
 "cells": [
  {
   "cell_type": "code",
   "execution_count": 2,
   "id": "f9e3315f",
   "metadata": {},
   "outputs": [
    {
     "name": "stdout",
     "output_type": "stream",
     "text": [
      "Obtaining dataset metadata...\n",
      "Detected fields: ['santomera' 'cabrera' 'flores']\n",
      "Images with errors: 24\n",
      "\t out of bounds: 24\n",
      "Processing: C:\\Users\\Daniel_Arcos\\Downloads\\Mix_out\\W26_cabrera_Multispectral\n",
      "Images: 1960\n",
      "Cluster 0.0: 1960 positions -> 2 splits\n",
      "\tCluster 1.0: 1036\n",
      "\tCluster 2.0: 924\n",
      "Processing: C:\\Users\\Daniel_Arcos\\Downloads\\Mix_out\\W26_flores_RGB\n",
      "Images: 26\n",
      "Processing: C:\\Users\\Daniel_Arcos\\Downloads\\Mix_out\\W26_cabrera_RGB\n",
      "Images: 102\n",
      "Processing: C:\\Users\\Daniel_Arcos\\Downloads\\Mix_out\\W26_santomera_Multispectral\n",
      "Images: 308\n",
      "DONE\n"
     ]
    }
   ],
   "source": [
    "import main\n",
    "folder_path = r\"C:\\Users\\Daniel_Arcos\\Desktop\\test_images\"\n",
    "out_path = r\"C:\\Users\\Daniel_Arcos\\Downloads\\Mix_out\"\n",
    "gdf = main.fields_and_cluster_division(folder_path, out_path)\n",
    "gdf"
   ]
  },
  {
   "cell_type": "code",
   "execution_count": 3,
   "id": "f8461abc",
   "metadata": {},
   "outputs": [],
   "source": [
    "gdf = main.get_dataset_gdf(folder_path)\n",
    "\n",
    "gdf.to_file('test2.geojson', driver='GeoJSON')"
   ]
  }
 ],
 "metadata": {
  "kernelspec": {
   "display_name": "venv",
   "language": "python",
   "name": "python3"
  },
  "language_info": {
   "codemirror_mode": {
    "name": "ipython",
    "version": 3
   },
   "file_extension": ".py",
   "mimetype": "text/x-python",
   "name": "python",
   "nbconvert_exporter": "python",
   "pygments_lexer": "ipython3",
   "version": "3.12.10"
  }
 },
 "nbformat": 4,
 "nbformat_minor": 5
}
