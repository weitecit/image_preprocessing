{
 "cells": [
  {
   "cell_type": "code",
   "execution_count": 2,
   "id": "f9e3315f",
   "metadata": {},
   "outputs": [
    {
     "name": "stdout",
     "output_type": "stream",
     "text": [
      "Detected fields: ['cabrera' 'la joaquina' 'la matanza' 'flores']\n",
      "Images out of bounds: 13\n",
      "Processing W23_flores_RGB_1731...\n",
      "Processing W23_cabrera_RGB_1731...\n",
      "Cluster 0.0: 816 positions -> 5 splits\n",
      "\tCluster 4.0: 106\n",
      "\tCluster 5.0: 236\n",
      "\tCluster 6.0: 180\n",
      "\tCluster 7.0: 135\n",
      "\tCluster 8.0: 159\n",
      "Cluster 1.0: 217 positions -> 2 splits\n",
      "\tCluster 9.0: 99\n",
      "\tCluster 10.0: 118\n",
      "Cluster 3.0: 436 positions -> 3 splits\n",
      "\tCluster 11.0: 51\n",
      "\tCluster 12.0: 177\n",
      "\tCluster 13.0: 208\n"
     ]
    },
    {
     "name": "stderr",
     "output_type": "stream",
     "text": [
      "c:\\Repos_\\image_processing\\venv\\Lib\\site-packages\\sklearn\\manifold\\_spectral_embedding.py:328: UserWarning: Graph is not fully connected, spectral embedding may not work as expected.\n",
      "  warnings.warn(\n"
     ]
    },
    {
     "name": "stdout",
     "output_type": "stream",
     "text": [
      "Processing W23_la matanza_RGB_1731...\n",
      "Processing W23_la joaquina_RGB_1731...\n",
      "Cluster 0.0: 217 positions -> 2 splits\n",
      "\tCluster 1.0: 107\n",
      "\tCluster 2.0: 110\n",
      "DONE\n"
     ]
    }
   ],
   "source": [
    "import main\n",
    "folder_path = r\"C:\\Users\\Daniel_Arcos\\Desktop\\Visibles cabrera\"\n",
    "out_path = r\"C:\\Users\\Daniel_Arcos\\Downloads\\Cabrera_out\"\n",
    "main.fields_and_cluster_division(folder_path, out_path, max_images=200)"
   ]
  }
 ],
 "metadata": {
  "kernelspec": {
   "display_name": "venv",
   "language": "python",
   "name": "python3"
  },
  "language_info": {
   "codemirror_mode": {
    "name": "ipython",
    "version": 3
   },
   "file_extension": ".py",
   "mimetype": "text/x-python",
   "name": "python",
   "nbconvert_exporter": "python",
   "pygments_lexer": "ipython3",
   "version": "3.12.10"
  }
 },
 "nbformat": 4,
 "nbformat_minor": 5
}
